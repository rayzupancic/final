{
 "cells": [
  {
   "cell_type": "markdown",
   "metadata": {},
   "source": [
    "# Autonomous Systems Exploration\n",
    "\n"
   ]
  },
  {
   "cell_type": "markdown",
   "metadata": {},
   "source": [
    "### Topic 1: Robustness\n",
    "#### Random Failure versus Targeted Attack\n",
    "This notebook will compare the graphs of AS organizations connectivity with respect to their susceptibility"
   ]
  },
  {
   "cell_type": "code",
   "execution_count": 2,
   "metadata": {
    "collapsed": true
   },
   "outputs": [],
   "source": [
    "# load all libraries\n",
    "import networkx as nx\n",
    "import numpy as np\n",
    "%matplotlib inline\n",
    "import matplotlib.pyplot as plt\n",
    "import operator\n"
   ]
  },
  {
   "cell_type": "code",
   "execution_count": 10,
   "metadata": {
    "collapsed": true
   },
   "outputs": [],
   "source": [
    "# adapted slightly from code by Yong-Yeow Ahn\n",
    "def random_removal(graph, remove_frac):\n",
    "    \n",
    "    \n",
    "    # copy graph\n",
    "    agraph = graph.copy()\n",
    "    \n",
    "    # We need to calculate the current size of the largest component\n",
    "    initial_largest = len(largest_component(agraph))\n",
    "    \n",
    "    # remove nodes\n",
    "    agraph.remove_nodes_from(np.random.choice(agraph.nodes(), size=int(remove_frac*len(agraph)), replace=False))\n",
    "    \n",
    "    # Now lets calculate our order parameter, while handling\n",
    "    # the case that the graph is empty\n",
    "    if len(agraph) > 0:\n",
    "        relative_size_of_largest = len(max(nx.connected_component_subgraphs(agraph), key=len)) / initial_largest\n",
    "    else:\n",
    "        relative_size_of_largest = 0.0\n",
    "        \n",
    "    return relative_size_of_largest"
   ]
  },
  {
   "cell_type": "code",
   "execution_count": 4,
   "metadata": {
    "collapsed": true
   },
   "outputs": [],
   "source": [
    "def largest_component(g):\n",
    "\n",
    "    # We need to calculate the current size of the largest component\n",
    "    largest = max(nx.connected_component_subgraphs(g), key=len)\n",
    "    return largest"
   ]
  },
  {
   "cell_type": "code",
   "execution_count": 6,
   "metadata": {
    "collapsed": false
   },
   "outputs": [
    {
     "name": "stdout",
     "output_type": "stream",
     "text": [
      "Original Graph Information: Name: \n",
      "Type: Graph\n",
      "Number of nodes: 22963\n",
      "Number of edges: 48436\n",
      "Average degree:   4.2186\n",
      "\n",
      "Largest Component Information: Name: \n",
      "Type: Graph\n",
      "Number of nodes: 22963\n",
      "Number of edges: 48436\n",
      "Average degree:   4.2186\n"
     ]
    }
   ],
   "source": [
    "# read in the AS nodes\n",
    "as_graph = nx.read_gml('as-22july06.gml')\n",
    "print(\"Original Graph Information: {0}\".format(nx.info(as_graph)))\n",
    "as_lgraph = largest_component(as_graph)\n",
    "print(\"\\nLargest Component Information: {0}\".format(nx.info(as_lgraph)))\n",
    "# This will be our list of fractions to run the simulation over\n",
    "fractions = np.linspace(0.0, 1.0, 30)\n"
   ]
  },
  {
   "cell_type": "code",
   "execution_count": 7,
   "metadata": {
    "collapsed": false
   },
   "outputs": [
    {
     "name": "stdout",
     "output_type": "stream",
     "text": [
      "[1.0, 0.95207507729826235, 0.90799111614336125, 0.86301876932456556, 0.81525497539520109, 0.76680747289117279, 0.7173104559508775, 0.67550842659931187, 0.63426817053520879, 0.58369986500021775, 0.53830074467621836, 0.49014066106345, 0.44539912032399948, 0.40152854592170006, 0.35300701127901407, 0.31409223533510428, 0.28241954448460566, 0.2359926838827679, 0.21079127291730174, 0.17277359230065761, 0.14262509254017333, 0.1215433523494317, 0.082950833950267838, 0.064042154770718118, 0.037865261507642731, 0.027535600749031046, 0.015111265949571049, 0.0070374080041806387, 0.0020119322388189699, 0.0]\n"
     ]
    }
   ],
   "source": [
    "# Lets do 20 trials for each fraction and take the mean, then do that for each fraction\n",
    "ran_results = [ np.mean([random_removal(as_graph, frac) for i in range(10)]) for frac in fractions ]\n",
    "print (ran_results)"
   ]
  },
  {
   "cell_type": "code",
   "execution_count": 8,
   "metadata": {
    "collapsed": false
   },
   "outputs": [
    {
     "data": {
      "text/plain": [
       "<matplotlib.text.Text at 0x23fec7d45f8>"
      ]
     },
     "execution_count": 8,
     "metadata": {},
     "output_type": "execute_result"
    },
    {
     "data": {
      "image/png": "[encoded data removed]",
      "text/plain": [
       "<matplotlib.figure.Figure at 0x23fe97e12e8>"
      ]
     },
     "metadata": {},
     "output_type": "display_data"
    }
   ],
   "source": [
    "# Now lets plot the results\n",
    "plt.plot(fractions, ran_results, 'b--', lw=2,label='Relative Len.')\n",
    "plt.legend()\n",
    "plt.xlabel(\"Frac. Nodes Removed\")\n",
    "plt.ylabel(\"Frac. Len of Major/Initial Major Len \")\n"
   ]
  },
  {
   "cell_type": "raw",
   "metadata": {},
   "source": []
  },
  {
   "cell_type": "code",
   "execution_count": 11,
   "metadata": {
    "collapsed": false
   },
   "outputs": [],
   "source": [
    "##############################################################\n",
    "# description: create attack simulator graph that removed nodes by degree\n",
    "#\n",
    "#\n",
    "#\n",
    "# output: float # fraction of size of largest connectect component / largest component of original\n",
    "# notes: adapted from code by Yong-Yeow Ahn\n",
    "#############################################################\n",
    "def target_attack(graph, remove_frac, graph_collector):\n",
    "    \n",
    "    # get the list of nodes and degrees into a sorted list of Tuples\n",
    "    sorted_nodes_tup = sorted(nx.degree(graph).items(),reverse=True, key=operator.itemgetter(1))\n",
    "    # tuples are immutable, so need a list in order of degree to delete from teh largest to smallest\n",
    "    sorted_nodes_lst = list(sorted_nodes_tup)\n",
    "    \n",
    "    # First, lets copy the graph so we don't change the original\n",
    "    graph = graph.copy()\n",
    "    \n",
    "    # We need to calculate the current size of the largest component\n",
    "    initial_largest = len(max(nx.connected_component_subgraphs(graph), key=len))\n",
    "    \n",
    "    # remove the fraction of largest nodes\n",
    "    removed = int(remove_frac*len(sorted_nodes_lst))\n",
    "    #print(nx.degree(graph))\n",
    "    #print(sorted_nodes_lst)\n",
    "    \n",
    "    # loop through the removed nodes and delete them\n",
    "    for i in range(removed):\n",
    "        #print('remove:', i, 'node:', sorted_nodes_lst[i])\n",
    "        graph.remove_node(sorted_nodes_lst[i][0])\n",
    "        \n",
    "    graph_collector.append(graph)\n",
    "    \n",
    "    if len(graph) > 0:\n",
    "        relative_size_of_largest = len(max(nx.connected_component_subgraphs(graph), key=len)) / initial_largest\n",
    "    else:\n",
    "        relative_size_of_largest = 0.0\n",
    "        \n",
    "    return relative_size_of_largest\n",
    "\n"
   ]
  },
  {
   "cell_type": "code",
   "execution_count": 12,
   "metadata": {
    "collapsed": false
   },
   "outputs": [],
   "source": [
    "# keep a graph collector so we can look at paths as the major component shrinks\n",
    "graph_collector = [] # list of graphs\n",
    "# Lets do 20 trials for each fraction and take the mean, then do that for each fraction\n",
    "tar_results = [ np.mean([target_attack(as_graph, frac, graph_collector) for i in range(10)]) for frac in fractions ]\n",
    "\n"
   ]
  },
  {
   "cell_type": "code",
   "execution_count": 30,
   "metadata": {
    "collapsed": false
   },
   "outputs": [
    {
     "name": "stdout",
     "output_type": "stream",
     "text": [
      "Targeted Attack\n",
      "critical number: 0.000740321386578\n",
      "attack fraction: 0.0689655172414\n",
      "[1.0, 0.017767713277881812, 0.00074032138657840877, 0.00034838653486042766, 0.00026128990114532074, 0.00026128990114532074, 0.00021774158428776723, 0.00013064495057266037, 0.00013064495057266037, 0.00013064495057266037, 0.00013064495057266037, 8.7096633715106914e-05, 8.7096633715106914e-05, 8.7096633715106914e-05, 8.7096633715106914e-05, 8.7096633715106914e-05, 8.7096633715106914e-05, 8.7096633715106914e-05, 8.7096633715106914e-05, 8.7096633715106914e-05, 4.3548316857553457e-05, 4.3548316857553457e-05, 4.3548316857553457e-05, 4.3548316857553457e-05, 4.3548316857553457e-05, 4.3548316857553457e-05, 4.3548316857553457e-05, 4.3548316857553457e-05, 4.3548316857553457e-05, 0.0]\n"
     ]
    }
   ],
   "source": [
    "# find where largest component drops below 1% of original size\n",
    "count =0\n",
    "print(\"Targeted Attack\")\n",
    "for item in tar_results:\n",
    "    if item < .01:\n",
    "        print (\"critical number:\", item)\n",
    "        print (\"attack fraction:\", fractions[count])\n",
    "        break\n",
    "    count += 1\n",
    "\n",
    "print (tar_results)"
   ]
  },
  {
   "cell_type": "markdown",
   "metadata": {},
   "source": [
    "## Plotting the results of the two graphs"
   ]
  },
  {
   "cell_type": "code",
   "execution_count": 13,
   "metadata": {
    "collapsed": false
   },
   "outputs": [
    {
     "data": {
      "text/plain": [
       "<matplotlib.text.Text at 0x23fec136860>"
      ]
     },
     "execution_count": 13,
     "metadata": {},
     "output_type": "execute_result"
    },
    {
     "data": {
      "image/png": "[encoded data removed]",
      "text/plain": [
       "<matplotlib.figure.Figure at 0x23fec7f5b38>"
      ]
     },
     "metadata": {},
     "output_type": "display_data"
    }
   ],
   "source": [
    "# Now lets plot the results\n",
    "plt.plot(fractions,tar_results, 'r--', lw=2,label='Relative Len.')\n",
    "plt.legend()\n",
    "plt.xlabel(\"Frac. Nodes Removed\")\n",
    "plt.ylabel(\"Frac. Len of Major/Initial Major Len \")\n"
   ]
  },
  {
   "cell_type": "code",
   "execution_count": 94,
   "metadata": {
    "collapsed": false
   },
   "outputs": [],
   "source": []
  },
  {
   "cell_type": "markdown",
   "metadata": {},
   "source": [
    "## Path Failures"
   ]
  },
  {
   "cell_type": "code",
   "execution_count": 14,
   "metadata": {
    "collapsed": false
   },
   "outputs": [
    {
     "name": "stdout",
     "output_type": "stream",
     "text": [
      "2473522615912\n",
      "\n",
      "graph #: 1, Info: Name: \n",
      "Type: Graph\n",
      "Number of nodes: 22963\n",
      "Number of edges: 48436\n",
      "Average degree:   4.2186\n",
      "2473573817480\n",
      "\n",
      "graph #: 2, Info: Name: \n",
      "Type: Graph\n",
      "Number of nodes: 22172\n",
      "Number of edges: 6352\n",
      "Average degree:   0.5730\n",
      "2473548567720\n",
      "\n",
      "graph #: 3, Info: Name: \n",
      "Type: Graph\n",
      "Number of nodes: 21380\n",
      "Number of edges: 3198\n",
      "Average degree:   0.2992\n",
      "2473565802448\n",
      "\n",
      "graph #: 4, Info: Name: \n",
      "Type: Graph\n",
      "Number of nodes: 20588\n",
      "Number of edges: 1819\n",
      "Average degree:   0.1767\n",
      "2473565761152\n",
      "\n",
      "graph #: 5, Info: Name: \n",
      "Type: Graph\n",
      "Number of nodes: 19796\n",
      "Number of edges: 1126\n",
      "Average degree:   0.1138\n",
      "2473565866136\n",
      "\n",
      "graph #: 6, Info: Name: \n",
      "Type: Graph\n",
      "Number of nodes: 19004\n",
      "Number of edges: 803\n",
      "Average degree:   0.0845\n",
      "2473565896600\n",
      "\n",
      "graph #: 7, Info: Name: \n",
      "Type: Graph\n",
      "Number of nodes: 18213\n",
      "Number of edges: 569\n",
      "Average degree:   0.0625\n",
      "2473565731472\n",
      "\n",
      "graph #: 8, Info: Name: \n",
      "Type: Graph\n",
      "Number of nodes: 17421\n",
      "Number of edges: 348\n",
      "Average degree:   0.0400\n",
      "2473565688160\n",
      "\n",
      "graph #: 9, Info: Name: \n",
      "Type: Graph\n",
      "Number of nodes: 16629\n",
      "Number of edges: 302\n",
      "Average degree:   0.0363\n",
      "2473565809408\n",
      "\n",
      "graph #: 10, Info: Name: \n",
      "Type: Graph\n",
      "Number of nodes: 15837\n",
      "Number of edges: 252\n",
      "Average degree:   0.0318\n",
      "2473548502800\n",
      "\n",
      "graph #: 11, Info: Name: \n",
      "Type: Graph\n",
      "Number of nodes: 15045\n",
      "Number of edges: 213\n",
      "Average degree:   0.0283\n",
      "2473548502296\n",
      "\n",
      "graph #: 12, Info: Name: \n",
      "Type: Graph\n",
      "Number of nodes: 14253\n",
      "Number of edges: 183\n",
      "Average degree:   0.0257\n",
      "2473573857096\n",
      "\n",
      "graph #: 13, Info: Name: \n",
      "Type: Graph\n",
      "Number of nodes: 13462\n",
      "Number of edges: 157\n",
      "Average degree:   0.0233\n",
      "2473573893456\n",
      "\n",
      "graph #: 14, Info: Name: \n",
      "Type: Graph\n",
      "Number of nodes: 12670\n",
      "Number of edges: 122\n",
      "Average degree:   0.0193\n",
      "2473548434064\n",
      "\n",
      "graph #: 15, Info: Name: \n",
      "Type: Graph\n",
      "Number of nodes: 11878\n",
      "Number of edges: 92\n",
      "Average degree:   0.0155\n",
      "2473573830608\n",
      "\n",
      "graph #: 16, Info: Name: \n",
      "Type: Graph\n",
      "Number of nodes: 11086\n",
      "Number of edges: 66\n",
      "Average degree:   0.0119\n",
      "2473548536576\n",
      "\n",
      "graph #: 17, Info: Name: \n",
      "Type: Graph\n",
      "Number of nodes: 10294\n",
      "Number of edges: 41\n",
      "Average degree:   0.0080\n",
      "2473565724624\n",
      "\n",
      "graph #: 18, Info: Name: \n",
      "Type: Graph\n",
      "Number of nodes: 9502\n",
      "Number of edges: 19\n",
      "Average degree:   0.0040\n",
      "2473573965104\n",
      "\n",
      "graph #: 19, Info: Name: \n",
      "Type: Graph\n",
      "Number of nodes: 8711\n",
      "Number of edges: 12\n",
      "Average degree:   0.0028\n",
      "2473573965384\n",
      "\n",
      "graph #: 20, Info: Name: \n",
      "Type: Graph\n",
      "Number of nodes: 7919\n",
      "Number of edges: 1\n",
      "Average degree:   0.0003\n",
      "2473565766152\n",
      "\n",
      "graph #: 21, Info: Name: \n",
      "Type: Graph\n",
      "Number of nodes: 7127\n",
      "Number of edges: 0\n",
      "Average degree:   0.0000\n",
      "2473565765760\n",
      "\n",
      "graph #: 22, Info: Name: \n",
      "Type: Graph\n",
      "Number of nodes: 6335\n",
      "Number of edges: 0\n",
      "Average degree:   0.0000\n",
      "2473565910856\n",
      "\n",
      "graph #: 23, Info: Name: \n",
      "Type: Graph\n",
      "Number of nodes: 5543\n",
      "Number of edges: 0\n",
      "Average degree:   0.0000\n",
      "2473565911472\n",
      "\n",
      "graph #: 24, Info: Name: \n",
      "Type: Graph\n",
      "Number of nodes: 4751\n",
      "Number of edges: 0\n",
      "Average degree:   0.0000\n",
      "2473565699040\n",
      "\n",
      "graph #: 25, Info: Name: \n",
      "Type: Graph\n",
      "Number of nodes: 3960\n",
      "Number of edges: 0\n",
      "Average degree:   0.0000\n",
      "2473565901992\n",
      "\n",
      "graph #: 26, Info: Name: \n",
      "Type: Graph\n",
      "Number of nodes: 3168\n",
      "Number of edges: 0\n",
      "Average degree:   0.0000\n",
      "2473565904456\n",
      "\n",
      "graph #: 27, Info: Name: \n",
      "Type: Graph\n",
      "Number of nodes: 2376\n",
      "Number of edges: 0\n",
      "Average degree:   0.0000\n",
      "2473565903504\n",
      "\n",
      "graph #: 28, Info: Name: \n",
      "Type: Graph\n",
      "Number of nodes: 1584\n",
      "Number of edges: 0\n",
      "Average degree:   0.0000\n",
      "2473565901264\n",
      "\n",
      "graph #: 29, Info: Name: \n",
      "Type: Graph\n",
      "Number of nodes: 792\n",
      "Number of edges: 0\n",
      "Average degree:   0.0000\n",
      "2473565937392\n",
      "\n",
      "graph #: 30, Info: Name: \n",
      "Type: Graph\n",
      "Number of nodes: 0\n",
      "Number of edges: 0\n",
      "\n"
     ]
    }
   ],
   "source": [
    "len(graph_collector)\n",
    "# we do not need 10 graphs for each fraction  keep one\n",
    "new_graphs = graph_collector[10-1::10]\n",
    "num = 1\n",
    "for item in new_graphs:\n",
    "    print(id(item))\n",
    "    print(\"\\ngraph #: {0}, Info: {1}\".format(num, nx.info(item)))\n",
    "    num += 1\n"
   ]
  },
  {
   "cell_type": "code",
   "execution_count": 16,
   "metadata": {
    "collapsed": false
   },
   "outputs": [
    {
     "data": {
      "image/png": "[encoded data removed]",
      "text/plain": [
       "<matplotlib.figure.Figure at 0x23fec02e940>"
      ]
     },
     "metadata": {},
     "output_type": "display_data"
    }
   ],
   "source": [
    "#degree distribution\n",
    "degree_sequence=sorted(nx.degree(as_graph).values()) # degree sequence\n",
    "r_degree_sequence=sorted(nx.degree(as_graph).values(), reverse=True) # degree sequence\n",
    "#print(degree_sequence[:40])\n",
    "leng = len(degree_sequence)\n",
    "\n",
    "plt.hist(degree_sequence[leng-400:], facecolor = 'orange', bins=100)\n",
    "plt.title(\"Top 400 Most Connected AS\")\n",
    "plt.ylabel(\"degree\")\n",
    "plt.xlabel(\"rank\")\n",
    "plt.show()\n"
   ]
  },
  {
   "cell_type": "code",
   "execution_count": 20,
   "metadata": {
    "collapsed": false
   },
   "outputs": [
    {
     "name": "stdout",
     "output_type": "stream",
     "text": [
      "['87', '19782', '3356', '2152', '52']\n"
     ]
    },
    {
     "ename": "NetworkXNoPath",
     "evalue": "No path between 87 and 52.",
     "output_type": "error",
     "traceback": [
      "\u001b[0;31m---------------------------------------------------------------------------\u001b[0m",
      "\u001b[0;31mNetworkXNoPath\u001b[0m                            Traceback (most recent call last)",
      "\u001b[0;32m<ipython-input-20-5c6395e15f9d>\u001b[0m in \u001b[0;36m<module>\u001b[0;34m()\u001b[0m\n\u001b[1;32m      1\u001b[0m \u001b[0mprint\u001b[0m\u001b[1;33m(\u001b[0m\u001b[0mnx\u001b[0m\u001b[1;33m.\u001b[0m\u001b[0mshortest_path\u001b[0m\u001b[1;33m(\u001b[0m\u001b[0mas_graph\u001b[0m\u001b[1;33m,\u001b[0m \u001b[1;34m'87'\u001b[0m\u001b[1;33m,\u001b[0m\u001b[1;34m'52'\u001b[0m\u001b[1;33m)\u001b[0m\u001b[1;33m)\u001b[0m\u001b[1;33m\u001b[0m\u001b[0m\n\u001b[0;32m----> 2\u001b[0;31m \u001b[0mprint\u001b[0m\u001b[1;33m(\u001b[0m\u001b[0mnx\u001b[0m\u001b[1;33m.\u001b[0m\u001b[0mshortest_path\u001b[0m\u001b[1;33m(\u001b[0m\u001b[0mnew_graphs\u001b[0m\u001b[1;33m[\u001b[0m\u001b[1;36m1\u001b[0m\u001b[1;33m]\u001b[0m\u001b[1;33m,\u001b[0m \u001b[1;34m'87'\u001b[0m\u001b[1;33m,\u001b[0m\u001b[1;34m'52'\u001b[0m\u001b[1;33m)\u001b[0m\u001b[1;33m)\u001b[0m\u001b[1;33m\u001b[0m\u001b[0m\n\u001b[0m",
      "\u001b[0;32mC:\\Users\\Ray\\Anaconda3\\lib\\site-packages\\networkx\\algorithms\\shortest_paths\\generic.py\u001b[0m in \u001b[0;36mshortest_path\u001b[0;34m(G, source, target, weight)\u001b[0m\n\u001b[1;32m    134\u001b[0m             \u001b[1;31m## Find shortest source-target path.\u001b[0m\u001b[1;33m\u001b[0m\u001b[1;33m\u001b[0m\u001b[0m\n\u001b[1;32m    135\u001b[0m             \u001b[1;32mif\u001b[0m \u001b[0mweight\u001b[0m \u001b[1;32mis\u001b[0m \u001b[1;32mNone\u001b[0m\u001b[1;33m:\u001b[0m\u001b[1;33m\u001b[0m\u001b[0m\n\u001b[0;32m--> 136\u001b[0;31m                 \u001b[0mpaths\u001b[0m\u001b[1;33m=\u001b[0m\u001b[0mnx\u001b[0m\u001b[1;33m.\u001b[0m\u001b[0mbidirectional_shortest_path\u001b[0m\u001b[1;33m(\u001b[0m\u001b[0mG\u001b[0m\u001b[1;33m,\u001b[0m\u001b[0msource\u001b[0m\u001b[1;33m,\u001b[0m\u001b[0mtarget\u001b[0m\u001b[1;33m)\u001b[0m\u001b[1;33m\u001b[0m\u001b[0m\n\u001b[0m\u001b[1;32m    137\u001b[0m             \u001b[1;32melse\u001b[0m\u001b[1;33m:\u001b[0m\u001b[1;33m\u001b[0m\u001b[0m\n\u001b[1;32m    138\u001b[0m                 \u001b[0mpaths\u001b[0m\u001b[1;33m=\u001b[0m\u001b[0mnx\u001b[0m\u001b[1;33m.\u001b[0m\u001b[0mdijkstra_path\u001b[0m\u001b[1;33m(\u001b[0m\u001b[0mG\u001b[0m\u001b[1;33m,\u001b[0m\u001b[0msource\u001b[0m\u001b[1;33m,\u001b[0m\u001b[0mtarget\u001b[0m\u001b[1;33m,\u001b[0m\u001b[0mweight\u001b[0m\u001b[1;33m)\u001b[0m\u001b[1;33m\u001b[0m\u001b[0m\n",
      "\u001b[0;32mC:\\Users\\Ray\\Anaconda3\\lib\\site-packages\\networkx\\algorithms\\shortest_paths\\unweighted.py\u001b[0m in \u001b[0;36mbidirectional_shortest_path\u001b[0;34m(G, source, target)\u001b[0m\n\u001b[1;32m    134\u001b[0m     \"\"\"\n\u001b[1;32m    135\u001b[0m     \u001b[1;31m# call helper to do the real work\u001b[0m\u001b[1;33m\u001b[0m\u001b[1;33m\u001b[0m\u001b[0m\n\u001b[0;32m--> 136\u001b[0;31m     \u001b[0mresults\u001b[0m\u001b[1;33m=\u001b[0m\u001b[0m_bidirectional_pred_succ\u001b[0m\u001b[1;33m(\u001b[0m\u001b[0mG\u001b[0m\u001b[1;33m,\u001b[0m\u001b[0msource\u001b[0m\u001b[1;33m,\u001b[0m\u001b[0mtarget\u001b[0m\u001b[1;33m)\u001b[0m\u001b[1;33m\u001b[0m\u001b[0m\n\u001b[0m\u001b[1;32m    137\u001b[0m     \u001b[0mpred\u001b[0m\u001b[1;33m,\u001b[0m\u001b[0msucc\u001b[0m\u001b[1;33m,\u001b[0m\u001b[0mw\u001b[0m\u001b[1;33m=\u001b[0m\u001b[0mresults\u001b[0m\u001b[1;33m\u001b[0m\u001b[0m\n\u001b[1;32m    138\u001b[0m \u001b[1;33m\u001b[0m\u001b[0m\n",
      "\u001b[0;32mC:\\Users\\Ray\\Anaconda3\\lib\\site-packages\\networkx\\algorithms\\shortest_paths\\unweighted.py\u001b[0m in \u001b[0;36m_bidirectional_pred_succ\u001b[0;34m(G, source, target)\u001b[0m\n\u001b[1;32m    199\u001b[0m                     \u001b[1;32mif\u001b[0m \u001b[0mw\u001b[0m \u001b[1;32min\u001b[0m \u001b[0mpred\u001b[0m\u001b[1;33m:\u001b[0m  \u001b[1;32mreturn\u001b[0m \u001b[0mpred\u001b[0m\u001b[1;33m,\u001b[0m\u001b[0msucc\u001b[0m\u001b[1;33m,\u001b[0m\u001b[0mw\u001b[0m \u001b[1;31m# found path\u001b[0m\u001b[1;33m\u001b[0m\u001b[0m\n\u001b[1;32m    200\u001b[0m \u001b[1;33m\u001b[0m\u001b[0m\n\u001b[0;32m--> 201\u001b[0;31m     \u001b[1;32mraise\u001b[0m \u001b[0mnx\u001b[0m\u001b[1;33m.\u001b[0m\u001b[0mNetworkXNoPath\u001b[0m\u001b[1;33m(\u001b[0m\u001b[1;34m\"No path between %s and %s.\"\u001b[0m \u001b[1;33m%\u001b[0m \u001b[1;33m(\u001b[0m\u001b[0msource\u001b[0m\u001b[1;33m,\u001b[0m \u001b[0mtarget\u001b[0m\u001b[1;33m)\u001b[0m\u001b[1;33m)\u001b[0m\u001b[1;33m\u001b[0m\u001b[0m\n\u001b[0m\u001b[1;32m    202\u001b[0m \u001b[1;33m\u001b[0m\u001b[0m\n\u001b[1;32m    203\u001b[0m \u001b[1;33m\u001b[0m\u001b[0m\n",
      "\u001b[0;31mNetworkXNoPath\u001b[0m: No path between 87 and 52."
     ]
    }
   ],
   "source": [
    "print(nx.shortest_path(as_graph, '87','52'))\n",
    "print(nx.shortest_path(new_graphs[1], '87','52'))"
   ]
  },
  {
   "cell_type": "code",
   "execution_count": 32,
   "metadata": {
    "collapsed": false
   },
   "outputs": [
    {
     "data": {
      "image/png": "[encoded data removed]",
      "text/plain": [
       "<matplotlib.figure.Figure at 0x23fec06ebe0>"
      ]
     },
     "metadata": {},
     "output_type": "display_data"
    }
   ],
   "source": [
    "plt.plot(degree_sequence, 'r', marker='x')\n",
    "plt.title(\"AS Degree Sequence Semi-Log with X\")\n",
    "plt.ylabel(\"degree\")\n",
    "plt.xlabel(\"rank\")\n",
    "plt.xscale('log')\n",
    "plt.show()"
   ]
  },
  {
   "cell_type": "code",
   "execution_count": 34,
   "metadata": {
    "collapsed": false,
    "scrolled": false
   },
   "outputs": [],
   "source": [
    "as_g_bt = nx.betweenness_centrality(as_graph)"
   ]
  },
  {
   "cell_type": "code",
   "execution_count": 42,
   "metadata": {
    "collapsed": false
   },
   "outputs": [
    {
     "name": "stdout",
     "output_type": "stream",
     "text": [
      "          AS  betweenness\n",
      "4430     701     0.144697\n",
      "3081    1239     0.132111\n",
      "12863   3356     0.124733\n",
      "20115   7018     0.111697\n",
      "10322    174     0.080197\n",
      "10841   1299     0.078414\n",
      "15758    209     0.068879\n",
      "19598   3549     0.067246\n",
      "9960     702     0.046010\n",
      "11128   4323     0.039194\n",
      "4158    6461     0.038115\n",
      "14658   3320     0.037488\n",
      "17053   2914     0.037407\n",
      "20295   3303     0.036678\n",
      "22493   7132     0.032968\n",
      "1144    3491     0.029338\n",
      "22536   6453     0.029067\n",
      "22720   3561     0.027925\n",
      "5516    2828     0.023985\n",
      "2654    8220     0.023286\n",
      "20294   1273     0.022560\n",
      "17532   3257     0.022207\n",
      "5110    6395     0.022053\n",
      "17793   8342     0.022049\n",
      "5001    3786     0.018986\n",
      "19680   4513     0.018623\n",
      "8021    4637     0.017468\n",
      "16285   4766     0.017123\n",
      "19990   6939     0.016169\n",
      "8262   20485     0.015757\n",
      "...      ...          ...\n",
      "13976  22183     0.000000\n",
      "13977   9247     0.000000\n",
      "5627     808     0.000000\n",
      "5625   12516     0.000000\n",
      "5641   23324     0.000000\n",
      "13956  14548     0.000000\n",
      "13931   7601     0.000000\n",
      "5643   34579     0.000000\n",
      "5654   35640     0.000000\n",
      "13933  34119     0.000000\n",
      "13934  29906     0.000000\n",
      "13935  29725     0.000000\n",
      "13936  29554     0.000000\n",
      "5653   25872     0.000000\n",
      "13939  12905     0.000000\n",
      "13940  30231     0.000000\n",
      "13941  40066     0.000000\n",
      "13942  16567     0.000000\n",
      "13943  21377     0.000000\n",
      "13944  29985     0.000000\n",
      "13945  32242     0.000000\n",
      "13946  21799     0.000000\n",
      "13947  32200     0.000000\n",
      "13948  14089     0.000000\n",
      "13949  11222     0.000000\n",
      "5650   13208     0.000000\n",
      "5649   27373     0.000000\n",
      "5646    5790     0.000000\n",
      "5645   36843     0.000000\n",
      "0      11869     0.000000\n",
      "\n",
      "[22963 rows x 2 columns]\n"
     ]
    }
   ],
   "source": [
    "import pandas as pd\n",
    "df = pd.DataFrame(list(as_g_bt.items()),columns=['AS','betweenness'])\n",
    "dfr = df.sort_values('betweenness',ascending=False)\n",
    "print(dfr)"
   ]
  },
  {
   "cell_type": "code",
   "execution_count": 49,
   "metadata": {
    "collapsed": false
   },
   "outputs": [
    {
     "name": "stdout",
     "output_type": "stream",
     "text": [
      "Original AS Graph average shortest path: 3.842426273858345\n"
     ]
    },
    {
     "data": {
      "image/png": "[encoded data removed]",
      "text/plain": [
       "<matplotlib.figure.Figure at 0x23fec3397b8>"
      ]
     },
     "metadata": {},
     "output_type": "display_data"
    }
   ],
   "source": [
    "avg_shortest_paths = []\n",
    "as_graph_degree_sequence = list(nx.degree(as_graph).values())\n",
    "as_graph_avg_shortest_path_length = nx.average_shortest_path_length(as_graph, weight=None)\n",
    "print('Original AS Graph average shortest path: {0}'.format(as_graph_avg_shortest_path_length))\n",
    "for s in range(10):\n",
    "    null_graph = nx.configuration_model(as_graph_degree_sequence)\n",
    "    #print(list(nx.degree(null_graph).values()))\n",
    "    # remove multiple edges\n",
    "    null_graph = nx.Graph(null_graph)\n",
    "    #print(list(nx.degree(null_graph).values()))\n",
    "    # self loops make no sense for airline routes (except maybe scenic flights but USAir had none)\n",
    "    null_graph.remove_edges_from(null_graph.selfloop_edges())\n",
    "    #print('is connected:{0}'.format(nx.is_connected(null_graph)))\n",
    "    # because there are so many nodes with degree 1, null_graph can randomly be disconnected\n",
    "    # in those cases use sub graphs\n",
    "    cc_null_graph = max(nx.connected_component_subgraphs(null_graph), key=len)\n",
    "    avg_shortest_paths.append(nx.average_shortest_path_length(cc_null_graph, weight=None))\n"
   ]
  },
  {
   "cell_type": "code",
   "execution_count": 65,
   "metadata": {
    "collapsed": false
   },
   "outputs": [
    {
     "data": {
      "image/png": "[encoded data removed]",
      "text/plain": [
       "<matplotlib.figure.Figure at 0x23fec390cc0>"
      ]
     },
     "metadata": {},
     "output_type": "display_data"
    }
   ],
   "source": [
    "plt.hist(avg_shortest_paths, bins=40)  \n",
    "plt.axvline(as_graph_avg_shortest_path_length, lw=2, color=\"red\") \n",
    "plt.title(\"Average Shortest Path\")\n",
    "plt.show()"
   ]
  },
  {
   "cell_type": "code",
   "execution_count": 63,
   "metadata": {
    "collapsed": false
   },
   "outputs": [
    {
     "name": "stdout",
     "output_type": "stream",
     "text": [
      "[-3.06391459  0.48250802  0.34745508  0.56895385 -0.29070389  0.31065978\n",
      "  0.41578931  0.580806    0.43125349 -0.0225128   0.23970576]\n"
     ]
    },
    {
     "data": {
      "image/png": "[encoded data removed]",
      "text/plain": [
       "<matplotlib.figure.Figure at 0x23fec097e80>"
      ]
     },
     "metadata": {},
     "output_type": "display_data"
    }
   ],
   "source": [
    "import scipy.stats as stats\n",
    "zscores = stats.zscore([as_graph_avg_shortest_path_length] +avg_shortest_paths)\n",
    "print(zscores)\n",
    "plt.hist(zscores[1:], bins=100)  \n",
    "plt.axvline(zscores[0], lw=2, color=\"red\") \n",
    "plt.title('z-scores of Average Shortest Path')\n",
    "plt.show()"
   ]
  }
 ],
 "metadata": {
  "kernelspec": {
   "display_name": "Python [conda root]",
   "language": "python",
   "name": "conda-root-py"
  },
  "language_info": {
   "codemirror_mode": {
    "name": "ipython",
    "version": 3
   },
   "file_extension": ".py",
   "mimetype": "text/x-python",
   "name": "python",
   "nbconvert_exporter": "python",
   "pygments_lexer": "ipython3",
   "version": "3.5.2"
  }
 },
 "nbformat": 4,
 "nbformat_minor": 1
}
